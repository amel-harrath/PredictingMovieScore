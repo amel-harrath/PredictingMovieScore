{
 "cells": [
  {
   "cell_type": "code",
   "execution_count": null,
   "metadata": {},
   "outputs": [],
   "source": [
    "#imports\n",
    "\n",
    "import csv\n",
    "import pandas as pd\n",
    "import numpy as np\n",
    "import matplotlib.pyplot as plt\n",
    "import math\n",
    "from collections import Counter\n",
    "\n",
    "from sklearn.linear_model import LinearRegression\n",
    "from sklearn.tree import DecisionTreeClassifier\n",
    "from sklearn.ensemble import RandomForestClassifier\n",
    "from sklearn.neighbors import KNeighborsClassifier\n",
    "\n",
    "from sklearn.metrics import accuracy_score, mean_squared_error, r2_score\n",
    "from sklearn.model_selection import train_test_split, cross_val_score\n",
    "from sklearn import preprocessing, linear_model, tree, metrics\n",
    "import graphviz \n",
    "from scipy.io import arff\n",
    "import pydot\n",
    "\n",
    "import pickle\n",
    "import seaborn as sns"
   ]
  },
  {
   "cell_type": "markdown",
   "metadata": {},
   "source": [
    "# Data Exploration"
   ]
  },
  {
   "cell_type": "code",
   "execution_count": null,
   "metadata": {},
   "outputs": [],
   "source": [
    "#Loading the data from csv\n",
    "raw_data = pd.read_csv('movie_metadata.csv', encoding = \"utf-8\")"
   ]
  },
  {
   "cell_type": "code",
   "execution_count": null,
   "metadata": {},
   "outputs": [],
   "source": [
    "#Visualising Data\n",
    "raw_data.head(20)"
   ]
  },
  {
   "cell_type": "code",
   "execution_count": 370,
   "metadata": {},
   "outputs": [
    {
     "data": {
      "text/plain": [
       "(5043, 28)"
      ]
     },
     "execution_count": 370,
     "metadata": {},
     "output_type": "execute_result"
    }
   ],
   "source": [
    "#Data Shape\n",
    "raw_data.shape"
   ]
  },
  {
   "cell_type": "markdown",
   "metadata": {},
   "source": [
    "# Data Cleaning"
   ]
  },
  {
   "cell_type": "code",
   "execution_count": 371,
   "metadata": {},
   "outputs": [
    {
     "data": {
      "text/plain": [
       "(4953, 28)"
      ]
     },
     "execution_count": 371,
     "metadata": {},
     "output_type": "execute_result"
    }
   ],
   "source": [
    "#Removing Duplicates\n",
    "raw_data.drop_duplicates(keep = False, inplace = True)\n",
    "raw_data.shape"
   ]
  },
  {
   "cell_type": "code",
   "execution_count": 433,
   "metadata": {},
   "outputs": [
    {
     "data": {
      "text/plain": [
       "duration                     0\n",
       "director_facebook_likes      0\n",
       "cast_total_facebook_likes    0\n",
       "facenumber_in_poster         0\n",
       "country                      0\n",
       "content_rating               0\n",
       "budget                       0\n",
       "title_year                   0\n",
       "imdb_score                   0\n",
       "movie_facebook_likes         0\n",
       "dtype: int64"
      ]
     },
     "execution_count": 433,
     "metadata": {},
     "output_type": "execute_result"
    }
   ],
   "source": [
    "#Total missing values for each feature\n",
    "raw_data.isnull().sum()"
   ]
  },
  {
   "cell_type": "markdown",
   "metadata": {},
   "source": [
    "gross, budget, aspect_ratio and content_rating have the most number of missing values but we need these features in our following analysis so we're deleting the rows with the messing values for content_rating and replacing the missing values in the others with the mean"
   ]
  },
  {
   "cell_type": "code",
   "execution_count": 373,
   "metadata": {},
   "outputs": [
    {
     "data": {
      "text/plain": [
       "(4654, 28)"
      ]
     },
     "execution_count": 373,
     "metadata": {},
     "output_type": "execute_result"
    }
   ],
   "source": [
    "#Deleting rows with missing values for content_rating\n",
    "raw_data.dropna(axis=0, how='any', thresh=None, subset=['content_rating'], inplace=True)\n",
    "raw_data.shape"
   ]
  },
  {
   "cell_type": "code",
   "execution_count": 374,
   "metadata": {},
   "outputs": [],
   "source": [
    "#Replacing missing values with mean of column\n",
    "#for gross\n",
    "gross_median = raw_data['gross'].mean()\n",
    "raw_data['gross'].fillna(gross_median, inplace=True)\n",
    "#for budget\n",
    "budget_median = raw_data['budget'].mean()\n",
    "raw_data['budget'].fillna(budget_median, inplace=True)"
   ]
  },
  {
   "cell_type": "code",
   "execution_count": 375,
   "metadata": {},
   "outputs": [
    {
     "data": {
      "text/plain": [
       "0        1.78\n",
       "1        2.35\n",
       "2        2.35\n",
       "3        2.35\n",
       "5        2.35\n",
       "6        2.35\n",
       "7        1.85\n",
       "8        2.35\n",
       "9        2.35\n",
       "10       2.35\n",
       "11       2.35\n",
       "12       2.35\n",
       "13       2.35\n",
       "14       2.35\n",
       "15       2.35\n",
       "16       2.35\n",
       "18       2.35\n",
       "19       1.85\n",
       "20       2.35\n",
       "21       2.35\n",
       "22       2.35\n",
       "23       2.35\n",
       "24       2.35\n",
       "25       2.35\n",
       "26       2.35\n",
       "27       2.35\n",
       "28       2.35\n",
       "29       2.00\n",
       "30       2.35\n",
       "31       2.35\n",
       "        ...  \n",
       "4995    16.00\n",
       "4997     2.35\n",
       "4998     1.85\n",
       "5000     2.35\n",
       "5001     1.85\n",
       "5003     0.00\n",
       "5004     2.35\n",
       "5005     1.66\n",
       "5006     0.00\n",
       "5007     0.00\n",
       "5008     1.37\n",
       "5009     1.37\n",
       "5011     1.85\n",
       "5012     1.85\n",
       "5014     2.35\n",
       "5015     1.37\n",
       "5019     1.85\n",
       "5021     0.00\n",
       "5024     2.35\n",
       "5025     1.37\n",
       "5026     2.35\n",
       "5027     1.85\n",
       "5033     1.85\n",
       "5034     0.00\n",
       "5035     1.37\n",
       "5036     0.00\n",
       "5037     0.00\n",
       "5039    16.00\n",
       "5041     2.35\n",
       "5042     1.85\n",
       "Name: aspect_ratio, Length: 4654, dtype: float64"
      ]
     },
     "execution_count": 375,
     "metadata": {},
     "output_type": "execute_result"
    }
   ],
   "source": [
    "#Analysing aspect_ratrio\n",
    "#replacing NA values with 0s\n",
    "raw_data['aspect_ratio'].fillna(0,inplace=True)\n",
    "raw_data['aspect_ratio']"
   ]
  },
  {
   "cell_type": "code",
   "execution_count": 376,
   "metadata": {},
   "outputs": [
    {
     "data": {
      "text/plain": [
       "6.356792144026187"
      ]
     },
     "execution_count": 376,
     "metadata": {},
     "output_type": "execute_result"
    }
   ],
   "source": [
    "#1.85 and 2.35 are the most common values\n",
    "#Calculating the mean of imdb_score for aspect_ration 1.85\n",
    "np.mean(raw_data.imdb_score[raw_data.aspect_ratio == 1.85])"
   ]
  },
  {
   "cell_type": "code",
   "execution_count": 377,
   "metadata": {},
   "outputs": [
    {
     "data": {
      "text/plain": [
       "6.489681133746679"
      ]
     },
     "execution_count": 377,
     "metadata": {},
     "output_type": "execute_result"
    }
   ],
   "source": [
    "#Calculating the mean of imdb_score for aspect_ration 1.85\n",
    "np.mean(raw_data.imdb_score[raw_data.aspect_ratio == 2.35])"
   ]
  },
  {
   "cell_type": "code",
   "execution_count": 378,
   "metadata": {},
   "outputs": [
    {
     "data": {
      "text/plain": [
       "6.532859680284192"
      ]
     },
     "execution_count": 378,
     "metadata": {},
     "output_type": "execute_result"
    }
   ],
   "source": [
    "#Calculating the mean of imdb_score for aspect_ration the rest of the values\n",
    "np.mean(raw_data.imdb_score[raw_data.aspect_ratio != 2.35][raw_data.aspect_ratio != 1.85])"
   ]
  },
  {
   "cell_type": "markdown",
   "metadata": {},
   "source": [
    "The mean of imbd_score for aspect_ratio is almost the same for the different values so we're removing this predictor"
   ]
  },
  {
   "cell_type": "code",
   "execution_count": 379,
   "metadata": {},
   "outputs": [
    {
     "data": {
      "text/plain": [
       "(4654, 27)"
      ]
     },
     "execution_count": 379,
     "metadata": {},
     "output_type": "execute_result"
    }
   ],
   "source": [
    "#Dropping aspect_ratio\n",
    "raw_data.drop(['aspect_ratio'], axis=1, inplace=True)\n",
    "raw_data.shape"
   ]
  },
  {
   "cell_type": "markdown",
   "metadata": {},
   "source": [
    "Removing Columns"
   ]
  },
  {
   "cell_type": "code",
   "execution_count": 380,
   "metadata": {},
   "outputs": [
    {
     "data": {
      "text/plain": [
       "Color               4451\n",
       " Black and White     190\n",
       "Name: color, dtype: int64"
      ]
     },
     "execution_count": 380,
     "metadata": {},
     "output_type": "execute_result"
    }
   ],
   "source": [
    "#Analysing the feature color\n",
    "raw_data['color'].value_counts()"
   ]
  },
  {
   "cell_type": "markdown",
   "metadata": {},
   "source": [
    "We're removing this predictor since most of its values are colors and it can be considerd as constant"
   ]
  },
  {
   "cell_type": "code",
   "execution_count": 381,
   "metadata": {},
   "outputs": [
    {
     "data": {
      "text/plain": [
       "(4654, 26)"
      ]
     },
     "execution_count": 381,
     "metadata": {},
     "output_type": "execute_result"
    }
   ],
   "source": [
    "#Dropping color\n",
    "raw_data.drop(['color'], axis=1, inplace=True)\n",
    "raw_data.shape"
   ]
  },
  {
   "cell_type": "code",
   "execution_count": 382,
   "metadata": {},
   "outputs": [
    {
     "data": {
      "text/plain": [
       "English       4409\n",
       "French          51\n",
       "Spanish         36\n",
       "Mandarin        18\n",
       "Hindi           15\n",
       "German          15\n",
       "Japanese        13\n",
       "Italian          9\n",
       "Portuguese       8\n",
       "Cantonese        8\n",
       "Russian          7\n",
       "Korean           7\n",
       "Danish           5\n",
       "Norwegian        4\n",
       "Persian          4\n",
       "Hebrew           4\n",
       "Thai             3\n",
       "Polish           3\n",
       "Dutch            3\n",
       "Arabic           2\n",
       "None             2\n",
       "Indonesian       2\n",
       "Zulu             2\n",
       "Swedish          2\n",
       "Dari             2\n",
       "Aboriginal       2\n",
       "Czech            1\n",
       "Romanian         1\n",
       "Filipino         1\n",
       "Greek            1\n",
       "Chinese          1\n",
       "Vietnamese       1\n",
       "Hungarian        1\n",
       "Aramaic          1\n",
       "Bosnian          1\n",
       "Maya             1\n",
       "Kazakh           1\n",
       "Mongolian        1\n",
       "Name: language, dtype: int64"
      ]
     },
     "execution_count": 382,
     "metadata": {},
     "output_type": "execute_result"
    }
   ],
   "source": [
    "#Analysing the feature language\n",
    "raw_data['language'].value_counts()"
   ]
  },
  {
   "cell_type": "markdown",
   "metadata": {},
   "source": [
    "We're removing the language since most of them are english and its almost constant also."
   ]
  },
  {
   "cell_type": "code",
   "execution_count": 383,
   "metadata": {},
   "outputs": [
    {
     "data": {
      "text/plain": [
       "(4654, 25)"
      ]
     },
     "execution_count": 383,
     "metadata": {},
     "output_type": "execute_result"
    }
   ],
   "source": [
    "#Dropping language\n",
    "raw_data.drop(['language'], axis=1, inplace=True)\n",
    "raw_data.shape"
   ]
  },
  {
   "cell_type": "code",
   "execution_count": 384,
   "metadata": {},
   "outputs": [
    {
     "data": {
      "text/plain": [
       "(4654, 23)"
      ]
     },
     "execution_count": 384,
     "metadata": {},
     "output_type": "execute_result"
    }
   ],
   "source": [
    "#The movie_imdb_link and the movie title are unnecessary for the prediction so we're removing them\n",
    "#Dropping movie_imdb_link\n",
    "raw_data.drop(['movie_imdb_link'], axis=1, inplace=True)\n",
    "#Dropping movie_title\n",
    "raw_data.drop(['movie_title'], axis=1, inplace=True)\n",
    "raw_data.shape"
   ]
  },
  {
   "cell_type": "code",
   "execution_count": 385,
   "metadata": {},
   "outputs": [
    {
     "data": {
      "text/plain": [
       "(4654, 19)"
      ]
     },
     "execution_count": 385,
     "metadata": {},
     "output_type": "execute_result"
    }
   ],
   "source": [
    "#The number of critics for reviews, number of users for reviews, the number of users who voted\n",
    "#and plot_keyword are also irrelevant\n",
    "\n",
    "#Dropping num_critic_for_reviews\n",
    "raw_data.drop(['num_critic_for_reviews'], axis=1, inplace=True)\n",
    "#Dropping num_user_for_reviews\n",
    "raw_data.drop(['num_user_for_reviews'], axis=1, inplace=True)\n",
    "#Dropping num_voted_users\n",
    "raw_data.drop(['num_voted_users'], axis=1, inplace=True)\n",
    "#Dropping plot_keywords\n",
    "raw_data.drop(['plot_keywords'], axis=1, inplace=True)\n",
    "raw_data.shape"
   ]
  },
  {
   "cell_type": "code",
   "execution_count": 386,
   "metadata": {},
   "outputs": [
    {
     "data": {
      "text/plain": [
       "director_name                64\n",
       "duration                      3\n",
       "director_facebook_likes      64\n",
       "actor_3_facebook_likes        9\n",
       "actor_2_name                  2\n",
       "actor_1_facebook_likes        1\n",
       "gross                         0\n",
       "genres                        0\n",
       "actor_1_name                  1\n",
       "cast_total_facebook_likes     0\n",
       "actor_3_name                  9\n",
       "facenumber_in_poster         12\n",
       "country                       2\n",
       "content_rating                0\n",
       "budget                        0\n",
       "title_year                   64\n",
       "actor_2_facebook_likes        2\n",
       "imdb_score                    0\n",
       "movie_facebook_likes          0\n",
       "dtype: int64"
      ]
     },
     "execution_count": 386,
     "metadata": {},
     "output_type": "execute_result"
    }
   ],
   "source": [
    "raw_data.isnull().sum()"
   ]
  },
  {
   "cell_type": "markdown",
   "metadata": {},
   "source": [
    "We cannot replace the missing values of title_year with the average of the column and neither is it usefull to replace those of the director name so we're deleting those rows"
   ]
  },
  {
   "cell_type": "code",
   "execution_count": 387,
   "metadata": {},
   "outputs": [
    {
     "data": {
      "text/plain": [
       "(4590, 19)"
      ]
     },
     "execution_count": 387,
     "metadata": {},
     "output_type": "execute_result"
    }
   ],
   "source": [
    "#Deleting rows with missing values for title_year\n",
    "raw_data.dropna(axis=0, how='any', thresh=None, subset=['title_year'], inplace=True)\n",
    "#Deleting rows with missing values for director_name\n",
    "raw_data.dropna(axis=0, how='any', thresh=None, subset=['director_name'], inplace=True)\n",
    "raw_data.shape"
   ]
  },
  {
   "cell_type": "code",
   "execution_count": 388,
   "metadata": {},
   "outputs": [],
   "source": [
    "#Replacing NA values in facenumber_in_poster with average\n",
    "average = round(raw_data['facenumber_in_poster'].mean()) \n",
    "raw_data['facenumber_in_poster'].fillna(average,inplace=True)"
   ]
  },
  {
   "cell_type": "code",
   "execution_count": 389,
   "metadata": {
    "scrolled": true
   },
   "outputs": [
    {
     "data": {
      "text/plain": [
       "director_name                0\n",
       "duration                     2\n",
       "director_facebook_likes      0\n",
       "actor_3_facebook_likes       9\n",
       "actor_2_name                 2\n",
       "actor_1_facebook_likes       1\n",
       "gross                        0\n",
       "genres                       0\n",
       "actor_1_name                 1\n",
       "cast_total_facebook_likes    0\n",
       "actor_3_name                 9\n",
       "facenumber_in_poster         0\n",
       "country                      0\n",
       "content_rating               0\n",
       "budget                       0\n",
       "title_year                   0\n",
       "actor_2_facebook_likes       2\n",
       "imdb_score                   0\n",
       "movie_facebook_likes         0\n",
       "dtype: int64"
      ]
     },
     "execution_count": 389,
     "metadata": {},
     "output_type": "execute_result"
    }
   ],
   "source": [
    "raw_data.isnull().sum()"
   ]
  },
  {
   "cell_type": "code",
   "execution_count": 390,
   "metadata": {},
   "outputs": [
    {
     "data": {
      "text/plain": [
       "(4580, 19)"
      ]
     },
     "execution_count": 390,
     "metadata": {},
     "output_type": "execute_result"
    }
   ],
   "source": [
    "#Deleting the rest of rows with messing values\n",
    "raw_data.dropna(axis=0, how='any', thresh=None, subset=['duration','actor_2_name','actor_1_name','actor_3_name'], inplace=True)\n",
    "raw_data.shape"
   ]
  },
  {
   "cell_type": "code",
   "execution_count": 391,
   "metadata": {},
   "outputs": [
    {
     "data": {
      "text/plain": [
       "0"
      ]
     },
     "execution_count": 391,
     "metadata": {},
     "output_type": "execute_result"
    }
   ],
   "source": [
    "raw_data.isnull().sum().sum() #No more missing data"
   ]
  },
  {
   "cell_type": "markdown",
   "metadata": {},
   "source": [
    "# Data PreProcessing"
   ]
  },
  {
   "cell_type": "code",
   "execution_count": 392,
   "metadata": {},
   "outputs": [
    {
     "data": {
      "text/html": [
       "<div>\n",
       "<style scoped>\n",
       "    .dataframe tbody tr th:only-of-type {\n",
       "        vertical-align: middle;\n",
       "    }\n",
       "\n",
       "    .dataframe tbody tr th {\n",
       "        vertical-align: top;\n",
       "    }\n",
       "\n",
       "    .dataframe thead th {\n",
       "        text-align: right;\n",
       "    }\n",
       "</style>\n",
       "<table border=\"1\" class=\"dataframe\">\n",
       "  <thead>\n",
       "    <tr style=\"text-align: right;\">\n",
       "      <th></th>\n",
       "      <th>director_name</th>\n",
       "      <th>duration</th>\n",
       "      <th>director_facebook_likes</th>\n",
       "      <th>actor_3_facebook_likes</th>\n",
       "      <th>actor_2_name</th>\n",
       "      <th>actor_1_facebook_likes</th>\n",
       "      <th>gross</th>\n",
       "      <th>genres</th>\n",
       "      <th>actor_1_name</th>\n",
       "      <th>cast_total_facebook_likes</th>\n",
       "      <th>actor_3_name</th>\n",
       "      <th>facenumber_in_poster</th>\n",
       "      <th>country</th>\n",
       "      <th>content_rating</th>\n",
       "      <th>budget</th>\n",
       "      <th>title_year</th>\n",
       "      <th>actor_2_facebook_likes</th>\n",
       "      <th>imdb_score</th>\n",
       "      <th>movie_facebook_likes</th>\n",
       "    </tr>\n",
       "  </thead>\n",
       "  <tbody>\n",
       "    <tr>\n",
       "      <th>0</th>\n",
       "      <td>James Cameron</td>\n",
       "      <td>178.0</td>\n",
       "      <td>0.0</td>\n",
       "      <td>855.0</td>\n",
       "      <td>Joel David Moore</td>\n",
       "      <td>1000.0</td>\n",
       "      <td>760505847.0</td>\n",
       "      <td>Action|Adventure|Fantasy|Sci-Fi</td>\n",
       "      <td>CCH Pounder</td>\n",
       "      <td>4834</td>\n",
       "      <td>Wes Studi</td>\n",
       "      <td>0.0</td>\n",
       "      <td>USA</td>\n",
       "      <td>PG-13</td>\n",
       "      <td>237000000.0</td>\n",
       "      <td>2009.0</td>\n",
       "      <td>936.0</td>\n",
       "      <td>7.9</td>\n",
       "      <td>33000</td>\n",
       "    </tr>\n",
       "    <tr>\n",
       "      <th>1</th>\n",
       "      <td>Gore Verbinski</td>\n",
       "      <td>169.0</td>\n",
       "      <td>563.0</td>\n",
       "      <td>1000.0</td>\n",
       "      <td>Orlando Bloom</td>\n",
       "      <td>40000.0</td>\n",
       "      <td>309404152.0</td>\n",
       "      <td>Action|Adventure|Fantasy</td>\n",
       "      <td>Johnny Depp</td>\n",
       "      <td>48350</td>\n",
       "      <td>Jack Davenport</td>\n",
       "      <td>0.0</td>\n",
       "      <td>USA</td>\n",
       "      <td>PG-13</td>\n",
       "      <td>300000000.0</td>\n",
       "      <td>2007.0</td>\n",
       "      <td>5000.0</td>\n",
       "      <td>7.1</td>\n",
       "      <td>0</td>\n",
       "    </tr>\n",
       "    <tr>\n",
       "      <th>2</th>\n",
       "      <td>Sam Mendes</td>\n",
       "      <td>148.0</td>\n",
       "      <td>0.0</td>\n",
       "      <td>161.0</td>\n",
       "      <td>Rory Kinnear</td>\n",
       "      <td>11000.0</td>\n",
       "      <td>200074175.0</td>\n",
       "      <td>Action|Adventure|Thriller</td>\n",
       "      <td>Christoph Waltz</td>\n",
       "      <td>11700</td>\n",
       "      <td>Stephanie Sigman</td>\n",
       "      <td>1.0</td>\n",
       "      <td>UK</td>\n",
       "      <td>PG-13</td>\n",
       "      <td>245000000.0</td>\n",
       "      <td>2015.0</td>\n",
       "      <td>393.0</td>\n",
       "      <td>6.8</td>\n",
       "      <td>85000</td>\n",
       "    </tr>\n",
       "    <tr>\n",
       "      <th>3</th>\n",
       "      <td>Christopher Nolan</td>\n",
       "      <td>164.0</td>\n",
       "      <td>22000.0</td>\n",
       "      <td>23000.0</td>\n",
       "      <td>Christian Bale</td>\n",
       "      <td>27000.0</td>\n",
       "      <td>448130642.0</td>\n",
       "      <td>Action|Thriller</td>\n",
       "      <td>Tom Hardy</td>\n",
       "      <td>106759</td>\n",
       "      <td>Joseph Gordon-Levitt</td>\n",
       "      <td>0.0</td>\n",
       "      <td>USA</td>\n",
       "      <td>PG-13</td>\n",
       "      <td>250000000.0</td>\n",
       "      <td>2012.0</td>\n",
       "      <td>23000.0</td>\n",
       "      <td>8.5</td>\n",
       "      <td>164000</td>\n",
       "    </tr>\n",
       "    <tr>\n",
       "      <th>5</th>\n",
       "      <td>Andrew Stanton</td>\n",
       "      <td>132.0</td>\n",
       "      <td>475.0</td>\n",
       "      <td>530.0</td>\n",
       "      <td>Samantha Morton</td>\n",
       "      <td>640.0</td>\n",
       "      <td>73058679.0</td>\n",
       "      <td>Action|Adventure|Sci-Fi</td>\n",
       "      <td>Daryl Sabara</td>\n",
       "      <td>1873</td>\n",
       "      <td>Polly Walker</td>\n",
       "      <td>1.0</td>\n",
       "      <td>USA</td>\n",
       "      <td>PG-13</td>\n",
       "      <td>263700000.0</td>\n",
       "      <td>2012.0</td>\n",
       "      <td>632.0</td>\n",
       "      <td>6.6</td>\n",
       "      <td>24000</td>\n",
       "    </tr>\n",
       "  </tbody>\n",
       "</table>\n",
       "</div>"
      ],
      "text/plain": [
       "       director_name  duration  director_facebook_likes  \\\n",
       "0      James Cameron     178.0                      0.0   \n",
       "1     Gore Verbinski     169.0                    563.0   \n",
       "2         Sam Mendes     148.0                      0.0   \n",
       "3  Christopher Nolan     164.0                  22000.0   \n",
       "5     Andrew Stanton     132.0                    475.0   \n",
       "\n",
       "   actor_3_facebook_likes      actor_2_name  actor_1_facebook_likes  \\\n",
       "0                   855.0  Joel David Moore                  1000.0   \n",
       "1                  1000.0     Orlando Bloom                 40000.0   \n",
       "2                   161.0      Rory Kinnear                 11000.0   \n",
       "3                 23000.0    Christian Bale                 27000.0   \n",
       "5                   530.0   Samantha Morton                   640.0   \n",
       "\n",
       "         gross                           genres     actor_1_name  \\\n",
       "0  760505847.0  Action|Adventure|Fantasy|Sci-Fi      CCH Pounder   \n",
       "1  309404152.0         Action|Adventure|Fantasy      Johnny Depp   \n",
       "2  200074175.0        Action|Adventure|Thriller  Christoph Waltz   \n",
       "3  448130642.0                  Action|Thriller        Tom Hardy   \n",
       "5   73058679.0          Action|Adventure|Sci-Fi     Daryl Sabara   \n",
       "\n",
       "   cast_total_facebook_likes          actor_3_name  facenumber_in_poster  \\\n",
       "0                       4834             Wes Studi                   0.0   \n",
       "1                      48350        Jack Davenport                   0.0   \n",
       "2                      11700      Stephanie Sigman                   1.0   \n",
       "3                     106759  Joseph Gordon-Levitt                   0.0   \n",
       "5                       1873          Polly Walker                   1.0   \n",
       "\n",
       "  country content_rating       budget  title_year  actor_2_facebook_likes  \\\n",
       "0     USA          PG-13  237000000.0      2009.0                   936.0   \n",
       "1     USA          PG-13  300000000.0      2007.0                  5000.0   \n",
       "2      UK          PG-13  245000000.0      2015.0                   393.0   \n",
       "3     USA          PG-13  250000000.0      2012.0                 23000.0   \n",
       "5     USA          PG-13  263700000.0      2012.0                   632.0   \n",
       "\n",
       "   imdb_score  movie_facebook_likes  \n",
       "0         7.9                 33000  \n",
       "1         7.1                     0  \n",
       "2         6.8                 85000  \n",
       "3         8.5                164000  \n",
       "5         6.6                 24000  "
      ]
     },
     "execution_count": 392,
     "metadata": {},
     "output_type": "execute_result"
    }
   ],
   "source": [
    "raw_data.head()"
   ]
  },
  {
   "cell_type": "code",
   "execution_count": 393,
   "metadata": {},
   "outputs": [
    {
     "data": {
      "text/plain": [
       "(2165,)"
      ]
     },
     "execution_count": 393,
     "metadata": {},
     "output_type": "execute_result"
    }
   ],
   "source": [
    "#Analysing the director_name feature\n",
    "raw_data['director_name'].unique().shape"
   ]
  },
  {
   "cell_type": "markdown",
   "metadata": {},
   "source": [
    "There are 2165 different unique director name in a 4580 sized dataset so it'll be unuseful to keep this feature "
   ]
  },
  {
   "cell_type": "code",
   "execution_count": 394,
   "metadata": {},
   "outputs": [
    {
     "data": {
      "text/plain": [
       "(4580, 18)"
      ]
     },
     "execution_count": 394,
     "metadata": {},
     "output_type": "execute_result"
    }
   ],
   "source": [
    "#Dropping director_name\n",
    "raw_data.drop(['director_name'], axis=1, inplace=True)\n",
    "raw_data.shape"
   ]
  },
  {
   "cell_type": "code",
   "execution_count": 395,
   "metadata": {},
   "outputs": [
    {
     "data": {
      "text/plain": [
       "1856"
      ]
     },
     "execution_count": 395,
     "metadata": {},
     "output_type": "execute_result"
    }
   ],
   "source": [
    "#Analysing actor names\n",
    "actors.clear()\n",
    "actors = raw_data['actor_1_name'].unique().tolist()\n",
    "len(actors)"
   ]
  },
  {
   "cell_type": "code",
   "execution_count": 396,
   "metadata": {},
   "outputs": [
    {
     "data": {
      "text/plain": [
       "4589"
      ]
     },
     "execution_count": 396,
     "metadata": {},
     "output_type": "execute_result"
    }
   ],
   "source": [
    "actors.extend(raw_data['actor_2_name'].unique().tolist())\n",
    "len(actors)"
   ]
  },
  {
   "cell_type": "code",
   "execution_count": 397,
   "metadata": {},
   "outputs": [
    {
     "data": {
      "text/plain": [
       "7809"
      ]
     },
     "execution_count": 397,
     "metadata": {},
     "output_type": "execute_result"
    }
   ],
   "source": [
    "actors.extend(raw_data['actor_3_name'].unique().tolist())\n",
    "len(actors)"
   ]
  },
  {
   "cell_type": "code",
   "execution_count": 398,
   "metadata": {},
   "outputs": [
    {
     "data": {
      "text/plain": [
       "5581"
      ]
     },
     "execution_count": 398,
     "metadata": {},
     "output_type": "execute_result"
    }
   ],
   "source": [
    "unique_actors = set(actors)\n",
    "len(unique_actors)"
   ]
  },
  {
   "cell_type": "markdown",
   "metadata": {},
   "source": [
    "We'll be removing the actors names as they are too different and we can use their facebook likes instead"
   ]
  },
  {
   "cell_type": "code",
   "execution_count": 399,
   "metadata": {},
   "outputs": [
    {
     "data": {
      "text/plain": [
       "(4580, 15)"
      ]
     },
     "execution_count": 399,
     "metadata": {},
     "output_type": "execute_result"
    }
   ],
   "source": [
    "#Dropping actors names\n",
    "#Dropping actor_1_name\n",
    "raw_data.drop(['actor_1_name'], axis=1, inplace=True)\n",
    "#Dropping actor_2_name\n",
    "raw_data.drop(['actor_2_name'], axis=1, inplace=True)\n",
    "#Dropping actor_1_name\n",
    "raw_data.drop(['actor_3_name'], axis=1, inplace=True)\n",
    "\n",
    "raw_data.shape"
   ]
  },
  {
   "cell_type": "code",
   "execution_count": 400,
   "metadata": {},
   "outputs": [],
   "source": [
    "#Dropping gross\n",
    "raw_data.drop(['gross'], axis=1, inplace=True)"
   ]
  },
  {
   "cell_type": "code",
   "execution_count": 401,
   "metadata": {},
   "outputs": [
    {
     "data": {
      "image/png": "[encoded data removed]",
      "text/plain": [
       "<Figure size 432x288 with 1 Axes>"
      ]
     },
     "metadata": {},
     "output_type": "display_data"
    }
   ],
   "source": [
    "#Analysing the genre \n",
    "plt.scatter(raw_data['genres'], raw_data.imdb_score)\n",
    "plt.show()"
   ]
  },
  {
   "cell_type": "code",
   "execution_count": 402,
   "metadata": {},
   "outputs": [],
   "source": [
    "#Dropping genres\n",
    "raw_data.drop(['genres'], axis=1, inplace=True)"
   ]
  },
  {
   "cell_type": "markdown",
   "metadata": {},
   "source": [
    "Removing highly correlated variables"
   ]
  },
  {
   "cell_type": "code",
   "execution_count": 403,
   "metadata": {},
   "outputs": [
    {
     "data": {
      "image/png": "[encoded data removed]",
      "text/plain": [
       "<Figure size 432x288 with 2 Axes>"
      ]
     },
     "metadata": {},
     "output_type": "display_data"
    }
   ],
   "source": [
    "Var_Corr = raw_data.corr()\n",
    "# plot the heatmap and annotation on it\n",
    "sns.heatmap(Var_Corr, xticklabels=Var_Corr.columns, yticklabels=Var_Corr.columns, annot=True)\n",
    "plt.show()"
   ]
  },
  {
   "cell_type": "markdown",
   "metadata": {},
   "source": [
    "Cast_total_facebook_likes is highly correlated with actor_1_facebook_likes, actor_2_facebook_likes and actor_3_facebook_likes. We'll be removing the latter 3 predictors."
   ]
  },
  {
   "cell_type": "code",
   "execution_count": 404,
   "metadata": {},
   "outputs": [
    {
     "data": {
      "text/plain": [
       "(4580, 10)"
      ]
     },
     "execution_count": 404,
     "metadata": {},
     "output_type": "execute_result"
    }
   ],
   "source": [
    "#Dropping actor_1_facebook_likes\n",
    "raw_data.drop(['actor_1_facebook_likes'], axis=1, inplace=True)\n",
    "#Dropping actor_2_facebook_likes\n",
    "raw_data.drop(['actor_2_facebook_likes'], axis=1, inplace=True)\n",
    "#Dropping actor_3_facebook_likes\n",
    "raw_data.drop(['actor_3_facebook_likes'], axis=1, inplace=True)\n",
    "raw_data.shape"
   ]
  },
  {
   "cell_type": "code",
   "execution_count": 405,
   "metadata": {},
   "outputs": [
    {
     "data": {
      "image/png": "[encoded data removed]",
      "text/plain": [
       "<Figure size 432x288 with 2 Axes>"
      ]
     },
     "metadata": {},
     "output_type": "display_data"
    }
   ],
   "source": [
    "Var_Corr = raw_data.corr()\n",
    "# plot the heatmap and annotation on it\n",
    "sns.heatmap(Var_Corr, xticklabels=Var_Corr.columns, yticklabels=Var_Corr.columns, annot=True)\n",
    "plt.show()"
   ]
  },
  {
   "cell_type": "markdown",
   "metadata": {},
   "source": [
    "There are no more highly correlated variables"
   ]
  },
  {
   "cell_type": "code",
   "execution_count": 406,
   "metadata": {},
   "outputs": [
    {
     "data": {
      "text/html": [
       "<div>\n",
       "<style scoped>\n",
       "    .dataframe tbody tr th:only-of-type {\n",
       "        vertical-align: middle;\n",
       "    }\n",
       "\n",
       "    .dataframe tbody tr th {\n",
       "        vertical-align: top;\n",
       "    }\n",
       "\n",
       "    .dataframe thead th {\n",
       "        text-align: right;\n",
       "    }\n",
       "</style>\n",
       "<table border=\"1\" class=\"dataframe\">\n",
       "  <thead>\n",
       "    <tr style=\"text-align: right;\">\n",
       "      <th></th>\n",
       "      <th>duration</th>\n",
       "      <th>director_facebook_likes</th>\n",
       "      <th>cast_total_facebook_likes</th>\n",
       "      <th>facenumber_in_poster</th>\n",
       "      <th>country</th>\n",
       "      <th>content_rating</th>\n",
       "      <th>budget</th>\n",
       "      <th>title_year</th>\n",
       "      <th>imdb_score</th>\n",
       "      <th>movie_facebook_likes</th>\n",
       "    </tr>\n",
       "  </thead>\n",
       "  <tbody>\n",
       "    <tr>\n",
       "      <th>0</th>\n",
       "      <td>178.0</td>\n",
       "      <td>0.0</td>\n",
       "      <td>4834</td>\n",
       "      <td>0.0</td>\n",
       "      <td>USA</td>\n",
       "      <td>PG-13</td>\n",
       "      <td>237000000.0</td>\n",
       "      <td>2009.0</td>\n",
       "      <td>7.9</td>\n",
       "      <td>33000</td>\n",
       "    </tr>\n",
       "    <tr>\n",
       "      <th>1</th>\n",
       "      <td>169.0</td>\n",
       "      <td>563.0</td>\n",
       "      <td>48350</td>\n",
       "      <td>0.0</td>\n",
       "      <td>USA</td>\n",
       "      <td>PG-13</td>\n",
       "      <td>300000000.0</td>\n",
       "      <td>2007.0</td>\n",
       "      <td>7.1</td>\n",
       "      <td>0</td>\n",
       "    </tr>\n",
       "    <tr>\n",
       "      <th>2</th>\n",
       "      <td>148.0</td>\n",
       "      <td>0.0</td>\n",
       "      <td>11700</td>\n",
       "      <td>1.0</td>\n",
       "      <td>UK</td>\n",
       "      <td>PG-13</td>\n",
       "      <td>245000000.0</td>\n",
       "      <td>2015.0</td>\n",
       "      <td>6.8</td>\n",
       "      <td>85000</td>\n",
       "    </tr>\n",
       "    <tr>\n",
       "      <th>3</th>\n",
       "      <td>164.0</td>\n",
       "      <td>22000.0</td>\n",
       "      <td>106759</td>\n",
       "      <td>0.0</td>\n",
       "      <td>USA</td>\n",
       "      <td>PG-13</td>\n",
       "      <td>250000000.0</td>\n",
       "      <td>2012.0</td>\n",
       "      <td>8.5</td>\n",
       "      <td>164000</td>\n",
       "    </tr>\n",
       "    <tr>\n",
       "      <th>5</th>\n",
       "      <td>132.0</td>\n",
       "      <td>475.0</td>\n",
       "      <td>1873</td>\n",
       "      <td>1.0</td>\n",
       "      <td>USA</td>\n",
       "      <td>PG-13</td>\n",
       "      <td>263700000.0</td>\n",
       "      <td>2012.0</td>\n",
       "      <td>6.6</td>\n",
       "      <td>24000</td>\n",
       "    </tr>\n",
       "  </tbody>\n",
       "</table>\n",
       "</div>"
      ],
      "text/plain": [
       "   duration  director_facebook_likes  cast_total_facebook_likes  \\\n",
       "0     178.0                      0.0                       4834   \n",
       "1     169.0                    563.0                      48350   \n",
       "2     148.0                      0.0                      11700   \n",
       "3     164.0                  22000.0                     106759   \n",
       "5     132.0                    475.0                       1873   \n",
       "\n",
       "   facenumber_in_poster country content_rating       budget  title_year  \\\n",
       "0                   0.0     USA          PG-13  237000000.0      2009.0   \n",
       "1                   0.0     USA          PG-13  300000000.0      2007.0   \n",
       "2                   1.0      UK          PG-13  245000000.0      2015.0   \n",
       "3                   0.0     USA          PG-13  250000000.0      2012.0   \n",
       "5                   1.0     USA          PG-13  263700000.0      2012.0   \n",
       "\n",
       "   imdb_score  movie_facebook_likes  \n",
       "0         7.9                 33000  \n",
       "1         7.1                     0  \n",
       "2         6.8                 85000  \n",
       "3         8.5                164000  \n",
       "5         6.6                 24000  "
      ]
     },
     "execution_count": 406,
     "metadata": {},
     "output_type": "execute_result"
    }
   ],
   "source": [
    "raw_data.head()"
   ]
  },
  {
   "cell_type": "markdown",
   "metadata": {},
   "source": [
    "Replace 0s with median in director_facebook_likes, cast_total_facebook_likes,facenumber_in_poster and movie_facebook_likes"
   ]
  },
  {
   "cell_type": "code",
   "execution_count": 407,
   "metadata": {},
   "outputs": [],
   "source": [
    "#Replace 0z with median for cast_total_facebook_likes\n",
    "non_zero_cast_fb_likes = raw_data[raw_data.cast_total_facebook_likes != 0]\n",
    "cast_fb_likes_median = round(non_zero_cast_fb_likes.cast_total_facebook_likes.median())\n",
    "raw_data.cast_total_facebook_likes.replace(to_replace=[0],value=cast_fb_likes_median,inplace=True)"
   ]
  },
  {
   "cell_type": "code",
   "execution_count": 408,
   "metadata": {},
   "outputs": [],
   "source": [
    "#Replace 0z with median for director_facebook_likes\n",
    "non_zero_director_fb_likes = raw_data[raw_data.director_facebook_likes != 0]\n",
    "director_fb_likes_median = round(non_zero_director_fb_likes.director_facebook_likes.median())\n",
    "raw_data.director_facebook_likes.replace(to_replace=[0],value=director_fb_likes_median,inplace=True)"
   ]
  },
  {
   "cell_type": "code",
   "execution_count": 409,
   "metadata": {},
   "outputs": [],
   "source": [
    "#Replace 0z with median for movie_facebook_likes\n",
    "non_zero_movie_fb_likes = raw_data[raw_data.movie_facebook_likes != 0]\n",
    "movie_fb_likes_median = round(non_zero_movie_fb_likes.movie_facebook_likes.median())\n",
    "raw_data.movie_facebook_likes.replace(to_replace=[0],value=movie_fb_likes_median,inplace=True)"
   ]
  },
  {
   "cell_type": "code",
   "execution_count": 410,
   "metadata": {},
   "outputs": [
    {
     "data": {
      "text/html": [
       "<div>\n",
       "<style scoped>\n",
       "    .dataframe tbody tr th:only-of-type {\n",
       "        vertical-align: middle;\n",
       "    }\n",
       "\n",
       "    .dataframe tbody tr th {\n",
       "        vertical-align: top;\n",
       "    }\n",
       "\n",
       "    .dataframe thead th {\n",
       "        text-align: right;\n",
       "    }\n",
       "</style>\n",
       "<table border=\"1\" class=\"dataframe\">\n",
       "  <thead>\n",
       "    <tr style=\"text-align: right;\">\n",
       "      <th></th>\n",
       "      <th>duration</th>\n",
       "      <th>director_facebook_likes</th>\n",
       "      <th>cast_total_facebook_likes</th>\n",
       "      <th>facenumber_in_poster</th>\n",
       "      <th>country</th>\n",
       "      <th>content_rating</th>\n",
       "      <th>budget</th>\n",
       "      <th>title_year</th>\n",
       "      <th>imdb_score</th>\n",
       "      <th>movie_facebook_likes</th>\n",
       "    </tr>\n",
       "  </thead>\n",
       "  <tbody>\n",
       "    <tr>\n",
       "      <th>0</th>\n",
       "      <td>178.0</td>\n",
       "      <td>84.0</td>\n",
       "      <td>4834</td>\n",
       "      <td>0.0</td>\n",
       "      <td>USA</td>\n",
       "      <td>PG-13</td>\n",
       "      <td>237000000.0</td>\n",
       "      <td>2009.0</td>\n",
       "      <td>7.9</td>\n",
       "      <td>33000</td>\n",
       "    </tr>\n",
       "    <tr>\n",
       "      <th>1</th>\n",
       "      <td>169.0</td>\n",
       "      <td>563.0</td>\n",
       "      <td>48350</td>\n",
       "      <td>0.0</td>\n",
       "      <td>USA</td>\n",
       "      <td>PG-13</td>\n",
       "      <td>300000000.0</td>\n",
       "      <td>2007.0</td>\n",
       "      <td>7.1</td>\n",
       "      <td>2000</td>\n",
       "    </tr>\n",
       "    <tr>\n",
       "      <th>2</th>\n",
       "      <td>148.0</td>\n",
       "      <td>84.0</td>\n",
       "      <td>11700</td>\n",
       "      <td>1.0</td>\n",
       "      <td>UK</td>\n",
       "      <td>PG-13</td>\n",
       "      <td>245000000.0</td>\n",
       "      <td>2015.0</td>\n",
       "      <td>6.8</td>\n",
       "      <td>85000</td>\n",
       "    </tr>\n",
       "    <tr>\n",
       "      <th>3</th>\n",
       "      <td>164.0</td>\n",
       "      <td>22000.0</td>\n",
       "      <td>106759</td>\n",
       "      <td>0.0</td>\n",
       "      <td>USA</td>\n",
       "      <td>PG-13</td>\n",
       "      <td>250000000.0</td>\n",
       "      <td>2012.0</td>\n",
       "      <td>8.5</td>\n",
       "      <td>164000</td>\n",
       "    </tr>\n",
       "    <tr>\n",
       "      <th>5</th>\n",
       "      <td>132.0</td>\n",
       "      <td>475.0</td>\n",
       "      <td>1873</td>\n",
       "      <td>1.0</td>\n",
       "      <td>USA</td>\n",
       "      <td>PG-13</td>\n",
       "      <td>263700000.0</td>\n",
       "      <td>2012.0</td>\n",
       "      <td>6.6</td>\n",
       "      <td>24000</td>\n",
       "    </tr>\n",
       "  </tbody>\n",
       "</table>\n",
       "</div>"
      ],
      "text/plain": [
       "   duration  director_facebook_likes  cast_total_facebook_likes  \\\n",
       "0     178.0                     84.0                       4834   \n",
       "1     169.0                    563.0                      48350   \n",
       "2     148.0                     84.0                      11700   \n",
       "3     164.0                  22000.0                     106759   \n",
       "5     132.0                    475.0                       1873   \n",
       "\n",
       "   facenumber_in_poster country content_rating       budget  title_year  \\\n",
       "0                   0.0     USA          PG-13  237000000.0      2009.0   \n",
       "1                   0.0     USA          PG-13  300000000.0      2007.0   \n",
       "2                   1.0      UK          PG-13  245000000.0      2015.0   \n",
       "3                   0.0     USA          PG-13  250000000.0      2012.0   \n",
       "5                   1.0     USA          PG-13  263700000.0      2012.0   \n",
       "\n",
       "   imdb_score  movie_facebook_likes  \n",
       "0         7.9                 33000  \n",
       "1         7.1                  2000  \n",
       "2         6.8                 85000  \n",
       "3         8.5                164000  \n",
       "5         6.6                 24000  "
      ]
     },
     "execution_count": 410,
     "metadata": {},
     "output_type": "execute_result"
    }
   ],
   "source": [
    "raw_data.head()"
   ]
  },
  {
   "cell_type": "code",
   "execution_count": 412,
   "metadata": {},
   "outputs": [
    {
     "data": {
      "text/plain": [
       "USA                   3526\n",
       "UK                     405\n",
       "France                 130\n",
       "Canada                 107\n",
       "Germany                 91\n",
       "Australia               51\n",
       "Spain                   32\n",
       "Japan                   18\n",
       "Italy                   18\n",
       "China                   17\n",
       "Hong Kong               16\n",
       "Mexico                  15\n",
       "India                   14\n",
       "New Zealand             13\n",
       "South Korea             11\n",
       "Ireland                 11\n",
       "Denmark                 11\n",
       "South Africa             8\n",
       "Russia                   7\n",
       "Brazil                   7\n",
       "Norway                   7\n",
       "Thailand                 5\n",
       "Argentina                4\n",
       "Iran                     4\n",
       "Netherlands              4\n",
       "Romania                  3\n",
       "Belgium                  3\n",
       "West Germany             3\n",
       "Israel                   3\n",
       "Sweden                   3\n",
       "Czech Republic           3\n",
       "Taiwan                   2\n",
       "Greece                   2\n",
       "Hungary                  2\n",
       "Poland                   2\n",
       "Aruba                    1\n",
       "Indonesia                1\n",
       "Switzerland              1\n",
       "Peru                     1\n",
       "Bulgaria                 1\n",
       "Finland                  1\n",
       "Official site            1\n",
       "New Line                 1\n",
       "Bahamas                  1\n",
       "Iceland                  1\n",
       "Kyrgyzstan               1\n",
       "Egypt                    1\n",
       "Afghanistan              1\n",
       "Georgia                  1\n",
       "Soviet Union             1\n",
       "Colombia                 1\n",
       "Libya                    1\n",
       "Chile                    1\n",
       "Panama                   1\n",
       "Slovakia                 1\n",
       "Philippines              1\n",
       "Dominican Republic       1\n",
       "Name: country, dtype: int64"
      ]
     },
     "execution_count": 412,
     "metadata": {},
     "output_type": "execute_result"
    }
   ],
   "source": [
    "#Analysing the country predictor\n",
    "raw_data['country'].value_counts()"
   ]
  },
  {
   "cell_type": "code",
   "execution_count": 413,
   "metadata": {},
   "outputs": [
    {
     "data": {
      "text/plain": [
       "USA      3526\n",
       "other     649\n",
       "UK        405\n",
       "Name: country, dtype: int64"
      ]
     },
     "execution_count": 413,
     "metadata": {},
     "output_type": "execute_result"
    }
   ],
   "source": [
    "#Reducing the number of values for country\n",
    "country_list=raw_data['country'].unique()\n",
    "to_keep_country_list = np.array(['USA','UK'])\n",
    "country_list = np.setdiff1d(country_list,to_keep_country_list)\n",
    "raw_data.country.replace(to_replace=country_list,value='other',inplace=True)\n",
    "raw_data['country'].value_counts()"
   ]
  },
  {
   "cell_type": "code",
   "execution_count": 414,
   "metadata": {},
   "outputs": [
    {
     "data": {
      "text/plain": [
       "R            2076\n",
       "PG-13        1425\n",
       "PG            694\n",
       "Not Rated     112\n",
       "G             110\n",
       "Unrated        58\n",
       "Approved       55\n",
       "X              13\n",
       "Passed          9\n",
       "NC-17           7\n",
       "GP              6\n",
       "M               5\n",
       "TV-G            4\n",
       "TV-PG           3\n",
       "TV-14           3\n",
       "Name: content_rating, dtype: int64"
      ]
     },
     "execution_count": 414,
     "metadata": {},
     "output_type": "execute_result"
    }
   ],
   "source": [
    "#Analysing the content_rating predictor\n",
    "raw_data['content_rating'].value_counts()"
   ]
  },
  {
   "cell_type": "code",
   "execution_count": 415,
   "metadata": {},
   "outputs": [
    {
     "data": {
      "text/plain": [
       "R        2076\n",
       "PG-13    1425\n",
       "PG        694\n",
       "other     385\n",
       "Name: content_rating, dtype: int64"
      ]
     },
     "execution_count": 415,
     "metadata": {},
     "output_type": "execute_result"
    }
   ],
   "source": [
    "#Reducing the number of values for content_rating\n",
    "rating_list=raw_data['content_rating'].unique()\n",
    "to_keep_rating_list = np.array(['R','PG-13','PG'])\n",
    "rating_list = np.setdiff1d(rating_list,to_keep_rating_list)\n",
    "raw_data.content_rating.replace(to_replace=rating_list,value='other',inplace=True)\n",
    "raw_data['content_rating'].value_counts()"
   ]
  },
  {
   "cell_type": "markdown",
   "metadata": {},
   "source": [
    "Binarising the non numeric variables"
   ]
  },
  {
   "cell_type": "code",
   "execution_count": 416,
   "metadata": {},
   "outputs": [],
   "source": [
    "#Binarising country\n",
    "countries = raw_data['country'].unique()\n",
    "countries\n",
    "raw_data.country.replace(to_replace=countries,value=[0,1,2],inplace=True)"
   ]
  },
  {
   "cell_type": "code",
   "execution_count": 417,
   "metadata": {},
   "outputs": [],
   "source": [
    "#Binarising content_rating\n",
    "ratings = raw_data['content_rating'].unique()\n",
    "raw_data.content_rating.replace(to_replace=ratings,value=[0,1,2,3],inplace=True)"
   ]
  },
  {
   "cell_type": "code",
   "execution_count": 419,
   "metadata": {},
   "outputs": [],
   "source": [
    "#Breaking the score into 4 buckets\n",
    "scores = raw_data['imdb_score'].tolist()\n",
    "count_table = list()\n",
    "for score in scores:\n",
    "    count = 0\n",
    "    if score < 2:\n",
    "        count =0\n",
    "    elif score < 4:\n",
    "        count=1\n",
    "    elif score < 6:\n",
    "        count=2\n",
    "    elif score < 8:\n",
    "        count=3\n",
    "    else:\n",
    "        count=4\n",
    "    count_table.append(count)\n",
    "#replacing\n",
    "raw_data.imdb_score.replace(to_replace=scores,value=count_table,inplace=True)"
   ]
  },
  {
   "cell_type": "code",
   "execution_count": 420,
   "metadata": {},
   "outputs": [
    {
     "data": {
      "text/html": [
       "<div>\n",
       "<style scoped>\n",
       "    .dataframe tbody tr th:only-of-type {\n",
       "        vertical-align: middle;\n",
       "    }\n",
       "\n",
       "    .dataframe tbody tr th {\n",
       "        vertical-align: top;\n",
       "    }\n",
       "\n",
       "    .dataframe thead th {\n",
       "        text-align: right;\n",
       "    }\n",
       "</style>\n",
       "<table border=\"1\" class=\"dataframe\">\n",
       "  <thead>\n",
       "    <tr style=\"text-align: right;\">\n",
       "      <th></th>\n",
       "      <th>duration</th>\n",
       "      <th>director_facebook_likes</th>\n",
       "      <th>cast_total_facebook_likes</th>\n",
       "      <th>facenumber_in_poster</th>\n",
       "      <th>country</th>\n",
       "      <th>content_rating</th>\n",
       "      <th>budget</th>\n",
       "      <th>title_year</th>\n",
       "      <th>imdb_score</th>\n",
       "      <th>movie_facebook_likes</th>\n",
       "    </tr>\n",
       "  </thead>\n",
       "  <tbody>\n",
       "    <tr>\n",
       "      <th>0</th>\n",
       "      <td>178.0</td>\n",
       "      <td>84.0</td>\n",
       "      <td>4834</td>\n",
       "      <td>0.0</td>\n",
       "      <td>0</td>\n",
       "      <td>0</td>\n",
       "      <td>237000000.0</td>\n",
       "      <td>2009.0</td>\n",
       "      <td>3.0</td>\n",
       "      <td>33000</td>\n",
       "    </tr>\n",
       "    <tr>\n",
       "      <th>1</th>\n",
       "      <td>169.0</td>\n",
       "      <td>563.0</td>\n",
       "      <td>48350</td>\n",
       "      <td>0.0</td>\n",
       "      <td>0</td>\n",
       "      <td>0</td>\n",
       "      <td>300000000.0</td>\n",
       "      <td>2007.0</td>\n",
       "      <td>3.0</td>\n",
       "      <td>2000</td>\n",
       "    </tr>\n",
       "    <tr>\n",
       "      <th>2</th>\n",
       "      <td>148.0</td>\n",
       "      <td>84.0</td>\n",
       "      <td>11700</td>\n",
       "      <td>1.0</td>\n",
       "      <td>1</td>\n",
       "      <td>0</td>\n",
       "      <td>245000000.0</td>\n",
       "      <td>2015.0</td>\n",
       "      <td>3.0</td>\n",
       "      <td>85000</td>\n",
       "    </tr>\n",
       "    <tr>\n",
       "      <th>3</th>\n",
       "      <td>164.0</td>\n",
       "      <td>22000.0</td>\n",
       "      <td>106759</td>\n",
       "      <td>0.0</td>\n",
       "      <td>0</td>\n",
       "      <td>0</td>\n",
       "      <td>250000000.0</td>\n",
       "      <td>2012.0</td>\n",
       "      <td>4.0</td>\n",
       "      <td>164000</td>\n",
       "    </tr>\n",
       "    <tr>\n",
       "      <th>5</th>\n",
       "      <td>132.0</td>\n",
       "      <td>475.0</td>\n",
       "      <td>1873</td>\n",
       "      <td>1.0</td>\n",
       "      <td>0</td>\n",
       "      <td>0</td>\n",
       "      <td>263700000.0</td>\n",
       "      <td>2012.0</td>\n",
       "      <td>3.0</td>\n",
       "      <td>24000</td>\n",
       "    </tr>\n",
       "    <tr>\n",
       "      <th>6</th>\n",
       "      <td>156.0</td>\n",
       "      <td>84.0</td>\n",
       "      <td>46055</td>\n",
       "      <td>0.0</td>\n",
       "      <td>0</td>\n",
       "      <td>0</td>\n",
       "      <td>258000000.0</td>\n",
       "      <td>2007.0</td>\n",
       "      <td>3.0</td>\n",
       "      <td>2000</td>\n",
       "    </tr>\n",
       "    <tr>\n",
       "      <th>7</th>\n",
       "      <td>100.0</td>\n",
       "      <td>15.0</td>\n",
       "      <td>2036</td>\n",
       "      <td>1.0</td>\n",
       "      <td>0</td>\n",
       "      <td>1</td>\n",
       "      <td>260000000.0</td>\n",
       "      <td>2010.0</td>\n",
       "      <td>3.0</td>\n",
       "      <td>29000</td>\n",
       "    </tr>\n",
       "    <tr>\n",
       "      <th>8</th>\n",
       "      <td>141.0</td>\n",
       "      <td>84.0</td>\n",
       "      <td>92000</td>\n",
       "      <td>4.0</td>\n",
       "      <td>0</td>\n",
       "      <td>0</td>\n",
       "      <td>250000000.0</td>\n",
       "      <td>2015.0</td>\n",
       "      <td>3.0</td>\n",
       "      <td>118000</td>\n",
       "    </tr>\n",
       "    <tr>\n",
       "      <th>9</th>\n",
       "      <td>153.0</td>\n",
       "      <td>282.0</td>\n",
       "      <td>58753</td>\n",
       "      <td>3.0</td>\n",
       "      <td>1</td>\n",
       "      <td>1</td>\n",
       "      <td>250000000.0</td>\n",
       "      <td>2009.0</td>\n",
       "      <td>3.0</td>\n",
       "      <td>10000</td>\n",
       "    </tr>\n",
       "    <tr>\n",
       "      <th>10</th>\n",
       "      <td>183.0</td>\n",
       "      <td>84.0</td>\n",
       "      <td>24450</td>\n",
       "      <td>0.0</td>\n",
       "      <td>0</td>\n",
       "      <td>0</td>\n",
       "      <td>250000000.0</td>\n",
       "      <td>2016.0</td>\n",
       "      <td>3.0</td>\n",
       "      <td>197000</td>\n",
       "    </tr>\n",
       "    <tr>\n",
       "      <th>11</th>\n",
       "      <td>169.0</td>\n",
       "      <td>84.0</td>\n",
       "      <td>29991</td>\n",
       "      <td>0.0</td>\n",
       "      <td>0</td>\n",
       "      <td>0</td>\n",
       "      <td>209000000.0</td>\n",
       "      <td>2006.0</td>\n",
       "      <td>3.0</td>\n",
       "      <td>2000</td>\n",
       "    </tr>\n",
       "    <tr>\n",
       "      <th>12</th>\n",
       "      <td>106.0</td>\n",
       "      <td>395.0</td>\n",
       "      <td>2023</td>\n",
       "      <td>1.0</td>\n",
       "      <td>1</td>\n",
       "      <td>0</td>\n",
       "      <td>200000000.0</td>\n",
       "      <td>2008.0</td>\n",
       "      <td>3.0</td>\n",
       "      <td>2000</td>\n",
       "    </tr>\n",
       "    <tr>\n",
       "      <th>13</th>\n",
       "      <td>151.0</td>\n",
       "      <td>563.0</td>\n",
       "      <td>48486</td>\n",
       "      <td>2.0</td>\n",
       "      <td>0</td>\n",
       "      <td>0</td>\n",
       "      <td>225000000.0</td>\n",
       "      <td>2006.0</td>\n",
       "      <td>3.0</td>\n",
       "      <td>5000</td>\n",
       "    </tr>\n",
       "    <tr>\n",
       "      <th>14</th>\n",
       "      <td>150.0</td>\n",
       "      <td>563.0</td>\n",
       "      <td>45757</td>\n",
       "      <td>1.0</td>\n",
       "      <td>0</td>\n",
       "      <td>0</td>\n",
       "      <td>215000000.0</td>\n",
       "      <td>2013.0</td>\n",
       "      <td>3.0</td>\n",
       "      <td>48000</td>\n",
       "    </tr>\n",
       "    <tr>\n",
       "      <th>15</th>\n",
       "      <td>143.0</td>\n",
       "      <td>84.0</td>\n",
       "      <td>20495</td>\n",
       "      <td>0.0</td>\n",
       "      <td>0</td>\n",
       "      <td>0</td>\n",
       "      <td>225000000.0</td>\n",
       "      <td>2013.0</td>\n",
       "      <td>3.0</td>\n",
       "      <td>118000</td>\n",
       "    </tr>\n",
       "    <tr>\n",
       "      <th>16</th>\n",
       "      <td>150.0</td>\n",
       "      <td>80.0</td>\n",
       "      <td>22697</td>\n",
       "      <td>4.0</td>\n",
       "      <td>0</td>\n",
       "      <td>1</td>\n",
       "      <td>225000000.0</td>\n",
       "      <td>2008.0</td>\n",
       "      <td>3.0</td>\n",
       "      <td>2000</td>\n",
       "    </tr>\n",
       "    <tr>\n",
       "      <th>18</th>\n",
       "      <td>136.0</td>\n",
       "      <td>252.0</td>\n",
       "      <td>54083</td>\n",
       "      <td>4.0</td>\n",
       "      <td>0</td>\n",
       "      <td>0</td>\n",
       "      <td>250000000.0</td>\n",
       "      <td>2011.0</td>\n",
       "      <td>3.0</td>\n",
       "      <td>58000</td>\n",
       "    </tr>\n",
       "    <tr>\n",
       "      <th>19</th>\n",
       "      <td>106.0</td>\n",
       "      <td>188.0</td>\n",
       "      <td>12572</td>\n",
       "      <td>1.0</td>\n",
       "      <td>0</td>\n",
       "      <td>0</td>\n",
       "      <td>225000000.0</td>\n",
       "      <td>2012.0</td>\n",
       "      <td>3.0</td>\n",
       "      <td>40000</td>\n",
       "    </tr>\n",
       "    <tr>\n",
       "      <th>20</th>\n",
       "      <td>164.0</td>\n",
       "      <td>84.0</td>\n",
       "      <td>9152</td>\n",
       "      <td>0.0</td>\n",
       "      <td>2</td>\n",
       "      <td>0</td>\n",
       "      <td>250000000.0</td>\n",
       "      <td>2014.0</td>\n",
       "      <td>3.0</td>\n",
       "      <td>65000</td>\n",
       "    </tr>\n",
       "    <tr>\n",
       "      <th>21</th>\n",
       "      <td>153.0</td>\n",
       "      <td>464.0</td>\n",
       "      <td>28489</td>\n",
       "      <td>0.0</td>\n",
       "      <td>0</td>\n",
       "      <td>0</td>\n",
       "      <td>230000000.0</td>\n",
       "      <td>2012.0</td>\n",
       "      <td>3.0</td>\n",
       "      <td>56000</td>\n",
       "    </tr>\n",
       "  </tbody>\n",
       "</table>\n",
       "</div>"
      ],
      "text/plain": [
       "    duration  director_facebook_likes  cast_total_facebook_likes  \\\n",
       "0      178.0                     84.0                       4834   \n",
       "1      169.0                    563.0                      48350   \n",
       "2      148.0                     84.0                      11700   \n",
       "3      164.0                  22000.0                     106759   \n",
       "5      132.0                    475.0                       1873   \n",
       "6      156.0                     84.0                      46055   \n",
       "7      100.0                     15.0                       2036   \n",
       "8      141.0                     84.0                      92000   \n",
       "9      153.0                    282.0                      58753   \n",
       "10     183.0                     84.0                      24450   \n",
       "11     169.0                     84.0                      29991   \n",
       "12     106.0                    395.0                       2023   \n",
       "13     151.0                    563.0                      48486   \n",
       "14     150.0                    563.0                      45757   \n",
       "15     143.0                     84.0                      20495   \n",
       "16     150.0                     80.0                      22697   \n",
       "18     136.0                    252.0                      54083   \n",
       "19     106.0                    188.0                      12572   \n",
       "20     164.0                     84.0                       9152   \n",
       "21     153.0                    464.0                      28489   \n",
       "\n",
       "    facenumber_in_poster  country  content_rating       budget  title_year  \\\n",
       "0                    0.0        0               0  237000000.0      2009.0   \n",
       "1                    0.0        0               0  300000000.0      2007.0   \n",
       "2                    1.0        1               0  245000000.0      2015.0   \n",
       "3                    0.0        0               0  250000000.0      2012.0   \n",
       "5                    1.0        0               0  263700000.0      2012.0   \n",
       "6                    0.0        0               0  258000000.0      2007.0   \n",
       "7                    1.0        0               1  260000000.0      2010.0   \n",
       "8                    4.0        0               0  250000000.0      2015.0   \n",
       "9                    3.0        1               1  250000000.0      2009.0   \n",
       "10                   0.0        0               0  250000000.0      2016.0   \n",
       "11                   0.0        0               0  209000000.0      2006.0   \n",
       "12                   1.0        1               0  200000000.0      2008.0   \n",
       "13                   2.0        0               0  225000000.0      2006.0   \n",
       "14                   1.0        0               0  215000000.0      2013.0   \n",
       "15                   0.0        0               0  225000000.0      2013.0   \n",
       "16                   4.0        0               1  225000000.0      2008.0   \n",
       "18                   4.0        0               0  250000000.0      2011.0   \n",
       "19                   1.0        0               0  225000000.0      2012.0   \n",
       "20                   0.0        2               0  250000000.0      2014.0   \n",
       "21                   0.0        0               0  230000000.0      2012.0   \n",
       "\n",
       "    imdb_score  movie_facebook_likes  \n",
       "0          3.0                 33000  \n",
       "1          3.0                  2000  \n",
       "2          3.0                 85000  \n",
       "3          4.0                164000  \n",
       "5          3.0                 24000  \n",
       "6          3.0                  2000  \n",
       "7          3.0                 29000  \n",
       "8          3.0                118000  \n",
       "9          3.0                 10000  \n",
       "10         3.0                197000  \n",
       "11         3.0                  2000  \n",
       "12         3.0                  2000  \n",
       "13         3.0                  5000  \n",
       "14         3.0                 48000  \n",
       "15         3.0                118000  \n",
       "16         3.0                  2000  \n",
       "18         3.0                 58000  \n",
       "19         3.0                 40000  \n",
       "20         3.0                 65000  \n",
       "21         3.0                 56000  "
      ]
     },
     "execution_count": 420,
     "metadata": {},
     "output_type": "execute_result"
    }
   ],
   "source": [
    "raw_data.head(20)"
   ]
  },
  {
   "cell_type": "code",
   "execution_count": 429,
   "metadata": {},
   "outputs": [
    {
     "data": {
      "image/png": "[encoded data removed]",
      "text/plain": [
       "<Figure size 432x288 with 1 Axes>"
      ]
     },
     "metadata": {},
     "output_type": "display_data"
    }
   ],
   "source": [
    "#Analysing the title_year\n",
    "plt.hist(raw_data['title_year'],20)\n",
    "plt.show()"
   ]
  },
  {
   "cell_type": "code",
   "execution_count": null,
   "metadata": {},
   "outputs": [],
   "source": []
  },
  {
   "cell_type": "code",
   "execution_count": null,
   "metadata": {},
   "outputs": [],
   "source": []
  }
 ],
 "metadata": {
  "kernelspec": {
   "display_name": "Python 3",
   "language": "python",
   "name": "python3"
  },
  "language_info": {
   "codemirror_mode": {
    "name": "ipython",
    "version": 3
   },
   "file_extension": ".py",
   "mimetype": "text/x-python",
   "name": "python",
   "nbconvert_exporter": "python",
   "pygments_lexer": "ipython3",
   "version": "3.6.3"
  }
 },
 "nbformat": 4,
 "nbformat_minor": 2
}
